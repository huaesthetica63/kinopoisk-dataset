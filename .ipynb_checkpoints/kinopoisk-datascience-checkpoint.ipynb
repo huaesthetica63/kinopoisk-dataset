{
 "cells": [
  {
   "cell_type": "markdown",
   "metadata": {},
   "source": [
    "# Анализ данных по 250 лучшим фильмам по версии Кинопоиска\n",
    "## Данные взяты отсюда:\n",
    "https://www.kaggle.com/datasets/alexandertesemnikov/kinopoisktop250russiandataset?resource=download"
   ]
  },
  {
   "cell_type": "code",
   "execution_count": 38,
   "metadata": {},
   "outputs": [
    {
     "name": "stdout",
     "output_type": "stream",
     "text": [
      "['rating', 'movie', 'year', 'country', 'rating_ball', 'overview', 'director', 'screenwriter', 'actors', 'url_logo']\n"
     ]
    }
   ],
   "source": [
    "import pandas as pnd\n",
    "from matplotlib import pyplot as plt\n",
    "data = pnd.read_csv('kinopoisk-top250.csv') #загружаем датасет из csv-файла\n",
    "print(list(data.columns)) #выводим список заголовков датасета"
   ]
  },
  {
   "cell_type": "markdown",
   "metadata": {},
   "source": [
    "- rating - место фильма в топе\n",
    "- movie - название фильма\n",
    "- year - год выпуска\n",
    "- country - страна\n",
    "- rating_ball - рейтинг фильма по десятибальной шкале\n",
    "- overview - краткое описание фильма\n",
    "- director - режиссер\n",
    "- screenwriter - сценарист\n",
    "- actors - список актеров\n",
    "- url_logo - ссылка на логотип для фильма\n",
    "<br>\n",
    "<br>Такие данные, как ссылки на логотипы, а также описания и рейтинговые места можно убрать из датафрейма, чтобы они не мешались"
   ]
  },
  {
   "cell_type": "code",
   "execution_count": 12,
   "metadata": {},
   "outputs": [
    {
     "name": "stdout",
     "output_type": "stream",
     "text": [
      "                               movie  year  country  rating_ball  \\\n",
      "0                 Побег из Шоушенка   1994      США        9.111   \n",
      "1                      Зеленая миля   1999      США        9.062   \n",
      "2                      Форрест Гамп   1994      США        8.913   \n",
      "3                   Список Шиндлера   1993      США        8.817   \n",
      "4                               1+1   2011  Франция        8.807   \n",
      "5                            Начало   2010      США        8.662   \n",
      "6                              Леон   1994  Франция        8.681   \n",
      "7                        Король Лев   1994      США        8.772   \n",
      "8                   Бойцовский клуб   1999      США        8.645   \n",
      "9  Иван Васильевич меняет профессию   1973     СССР        8.782   \n",
      "\n",
      "                        director  \\\n",
      "0                 Фрэнк Дарабонт   \n",
      "1                 Фрэнк Дарабонт   \n",
      "2                 Роберт Земекис   \n",
      "3                Стивен Спилберг   \n",
      "4   Оливье Накаш;  Эрик Толедано   \n",
      "5                Кристофер Нолан   \n",
      "6                     Люк Бессон   \n",
      "7    Роджер Аллерс;  Роб Минкофф   \n",
      "8                   Дэвид Финчер   \n",
      "9                  Леонид Гайдай   \n",
      "\n",
      "                                        screenwriter  \\\n",
      "0                       Фрэнк Дарабонт;  Стивен Кинг   \n",
      "1                       Фрэнк Дарабонт;  Стивен Кинг   \n",
      "2                            Эрик Рот;  Уинстон Грум   \n",
      "3                     Стивен Зеллиан;  Томас Кенилли   \n",
      "4   Оливье Накаш;  Филипп Поццо ди Борго;  Эрик Т...   \n",
      "5                                    Кристофер Нолан   \n",
      "6                                         Люк Бессон   \n",
      "7   Ирен Меччи;  Джонатан Робертс;  Линда Вулверт...   \n",
      "8                             Джим Улс;  Чак Паланик   \n",
      "9   Владлен Бахнов;  Леонид Гайдай;  Михаил Булгаков   \n",
      "\n",
      "                                              actors  \n",
      "0  Тим Роббинс; Морган Фриман; Боб Гантон; Уильям...  \n",
      "1  Том Хэнкс; Дэвид Морс; Бонни Хант; Майкл Кларк...  \n",
      "2  Том Хэнкс; Робин Райт; Салли Филд; Гэри Синиз;...  \n",
      "3  Лиам Нисон; Бен Кингсли; Рэйф Файнс; Кэролайн ...  \n",
      "4  Франсуа Клюзе; Омар Си; Анн Ле Ни; Одри Флеро;...  \n",
      "5  Леонардо ДиКаприо; Джозеф Гордон-Левитт; Эллен...  \n",
      "6  Жан Рено; Гари Олдман; Натали Портман; Дэнни А...  \n",
      "7  Мэттью Бродерик; Джереми Айронс; Нэйтан Лейн; ...  \n",
      "8  Эдвард Нортон; Брэд Питт; Хелена Бонем Картер;...  \n",
      "9  Александр Демьяненко; Юрий Яковлев; Леонид Кур...  \n"
     ]
    }
   ],
   "source": [
    "data=data.drop(columns=['overview','url_logo', 'rating'], axis=1) #выбрасываем лишние столбцы\n",
    "first10rows = data.head(10) #выводим первые 10 строк\n",
    "print(first10rows)"
   ]
  },
  {
   "cell_type": "markdown",
   "metadata": {},
   "source": [
    "Теперь можно применить методы математической статистики и вывести некоторые интересные факты по этому датасету"
   ]
  },
  {
   "cell_type": "code",
   "execution_count": 13,
   "metadata": {},
   "outputs": [
    {
     "data": {
      "text/html": [
       "<div>\n",
       "<style scoped>\n",
       "    .dataframe tbody tr th:only-of-type {\n",
       "        vertical-align: middle;\n",
       "    }\n",
       "\n",
       "    .dataframe tbody tr th {\n",
       "        vertical-align: top;\n",
       "    }\n",
       "\n",
       "    .dataframe thead th {\n",
       "        text-align: right;\n",
       "    }\n",
       "</style>\n",
       "<table border=\"1\" class=\"dataframe\">\n",
       "  <thead>\n",
       "    <tr style=\"text-align: right;\">\n",
       "      <th></th>\n",
       "      <th>year</th>\n",
       "      <th>rating_ball</th>\n",
       "    </tr>\n",
       "  </thead>\n",
       "  <tbody>\n",
       "    <tr>\n",
       "      <th>count</th>\n",
       "      <td>250.000000</td>\n",
       "      <td>250.000000</td>\n",
       "    </tr>\n",
       "    <tr>\n",
       "      <th>mean</th>\n",
       "      <td>1991.736000</td>\n",
       "      <td>8.231444</td>\n",
       "    </tr>\n",
       "    <tr>\n",
       "      <th>std</th>\n",
       "      <td>19.015168</td>\n",
       "      <td>0.230376</td>\n",
       "    </tr>\n",
       "    <tr>\n",
       "      <th>min</th>\n",
       "      <td>1921.000000</td>\n",
       "      <td>7.806000</td>\n",
       "    </tr>\n",
       "    <tr>\n",
       "      <th>25%</th>\n",
       "      <td>1980.000000</td>\n",
       "      <td>8.063500</td>\n",
       "    </tr>\n",
       "    <tr>\n",
       "      <th>50%</th>\n",
       "      <td>1997.500000</td>\n",
       "      <td>8.169000</td>\n",
       "    </tr>\n",
       "    <tr>\n",
       "      <th>75%</th>\n",
       "      <td>2005.000000</td>\n",
       "      <td>8.355750</td>\n",
       "    </tr>\n",
       "    <tr>\n",
       "      <th>max</th>\n",
       "      <td>2019.000000</td>\n",
       "      <td>9.111000</td>\n",
       "    </tr>\n",
       "  </tbody>\n",
       "</table>\n",
       "</div>"
      ],
      "text/plain": [
       "              year  rating_ball\n",
       "count   250.000000   250.000000\n",
       "mean   1991.736000     8.231444\n",
       "std      19.015168     0.230376\n",
       "min    1921.000000     7.806000\n",
       "25%    1980.000000     8.063500\n",
       "50%    1997.500000     8.169000\n",
       "75%    2005.000000     8.355750\n",
       "max    2019.000000     9.111000"
      ]
     },
     "execution_count": 13,
     "metadata": {},
     "output_type": "execute_result"
    }
   ],
   "source": [
    "data.describe()#получаем краткое описание статистических величин для числовых характеристик"
   ]
  },
  {
   "cell_type": "markdown",
   "metadata": {},
   "source": [
    "<br>mean - среднее значение; отсюда получаем: среднее значение года выпуска фильмов: 1991-1992, средний балл: 8.23\n",
    "<br>std - стандартное отклонение, показывает то, насколько вариативен ряд (изменчивость). Год очень сильно колеблется, а средний балл - наоборот, слабо отклоняется от среднего значения\n",
    "<br>самый старый фильм из топа: 1921 год, самый новый: 2019\n",
    "<br>минимальный балл из топа: 7.8\n",
    "<br>максимальный балл из топа: 9.11\n",
    "<br>Остальное - квантили, они показывают год и балл, меньше которых 25, 50, 75% значений\n",
    "<br>\n",
    "<br>Выясним, сколько фильмов из каждой страны участвует в топе:"
   ]
  },
  {
   "cell_type": "code",
   "execution_count": 26,
   "metadata": {},
   "outputs": [
    {
     "name": "stdout",
     "output_type": "stream",
     "text": [
      "{'США': 147, 'Франция': 8, 'СССР': 41, 'Италия': 7, 'Германия': 6, 'Новая Зеландия': 3, 'Великобритания': 15, 'Польша': 2, 'Япония': 7, 'Испания': 1, 'Россия': 4, 'Бразилия': 1, 'Индия': 3, 'Гонконг': 1, 'Канада': 1, 'Ирландия': 1, 'Дания': 1, 'Эстония': 1}\n"
     ]
    }
   ],
   "source": [
    "countries = dict()#создаем словарь\n",
    "for i, row in data.iterrows():#обходим строки датафрейма\n",
    "    country = row['country']#получаем название страны\n",
    "    if country in countries.keys():#если такой ключ в словаре уже есть\n",
    "        countries[country] = countries[country]+1#добавляем единицу\n",
    "    else:\n",
    "        countries[country]=1#присваиваем единицу, если это первый фильм из этой страны\n",
    "print(countries)#выводим страны с количеством фильмов"
   ]
  },
  {
   "cell_type": "markdown",
   "metadata": {},
   "source": [
    "<br>Как можно заметить, больше всего фильмов в топе из США, а также из СССР, также есть фильмы из Франции, Италии, Германии, Новой Зеландии, Великобритании, Польши, Японии, Испании, Бразилии, Индии, Гонконга, Канады, Ирландии, Дании, Эстонии\n",
    "<br>\n",
    "<br>Выведем фильмы из СССР и России"
   ]
  },
  {
   "cell_type": "code",
   "execution_count": 33,
   "metadata": {},
   "outputs": [
    {
     "name": "stdout",
     "output_type": "stream",
     "text": [
      "                                                 movie  year country  \\\n",
      "73                                      Летят журавли   1957    СССР   \n",
      "82                                    Судьба человека   1959    СССР   \n",
      "104                                 Баллада о солдате   1959    СССР   \n",
      "107                                           Девчата   1962    СССР   \n",
      "120  Добро пожаловать; или Посторонним вход воспрещен   1964    СССР   \n",
      "171                                      Отец солдата   1964    СССР   \n",
      "14           Операция «Ы» и другие приключения Шурика   1965    СССР   \n",
      "170                                     Андрей Рублев   1966    СССР   \n",
      "47   Кавказская пленница; или Новые приключения Шур...  1966    СССР   \n",
      "197                               Берегись автомобиля   1966    СССР   \n",
      "153                                   Золотой теленок   1968    СССР   \n",
      "23                                 Бриллиантовая рука   1968    СССР   \n",
      "76                                            Офицеры   1971    СССР   \n",
      "134                                        12 стульев   1971    СССР   \n",
      "34                                  Джентльмены удачи   1971    СССР   \n",
      "48                              ...А зори здесь тихие   1972    СССР   \n",
      "9                    Иван Васильевич меняет профессию   1973    СССР   \n",
      "28                          В бой идут одни «старики»   1973    СССР   \n",
      "99                            Они сражались за Родину   1975    СССР   \n",
      "198                Ирония судьбы; или С легким паром!   1975    СССР   \n",
      "230                                       Старший сын   1975    СССР   \n",
      "241                          Аты-баты; шли солдаты...   1976    СССР   \n",
      "81                               Белый Бим Черное ухо   1976    СССР   \n",
      "90                                    Служебный роман   1977    СССР   \n",
      "66                             Москва слезам не верит   1979    СССР   \n",
      "168                              Тот самый Мюнхгаузен   1979    СССР   \n",
      "109    Шерлок Холмс и доктор Ватсон: Кровавая надпись   1979    СССР   \n",
      "65           Шерлок Холмс и доктор Ватсон: Знакомство   1979    СССР   \n",
      "162                               Вам и не снилось...   1980    СССР   \n",
      "118  Приключения Шерлока Холмса и доктора Ватсона: ...  1980    СССР   \n",
      "128      Шерлок Холмс и доктор Ватсон: Король шантажа   1980    СССР   \n",
      "100  Шерлок Холмс и доктор Ватсон: Смертельная схва...  1980    СССР   \n",
      "240                                         Мужики!..   1981    СССР   \n",
      "52   Приключения Шерлока Холмса и доктора Ватсона: ...  1981    СССР   \n",
      "137      Шерлок Холмс и доктор Ватсон: Сокровища Агры   1983    СССР   \n",
      "125                                   Любовь и голуби   1984    СССР   \n",
      "202                                   Жестокий романс   1984    СССР   \n",
      "247                                      Иди и смотри   1985    СССР   \n",
      "226                                 Завтра была война   1987    СССР   \n",
      "249               Холодное лето пятьдесят третьего...   1987    СССР   \n",
      "61                                     Собачье сердце   1988    СССР   \n",
      "103                                              Брат   1997  Россия   \n",
      "199                                            Брат 2   2000  Россия   \n",
      "196                                       Легенда №17   2012  Россия   \n",
      "210                                             Дурак   2014  Россия   \n",
      "\n",
      "     rating_ball              director  \\\n",
      "73         8.290      Михаил Калатозов   \n",
      "82         8.368      Сергей Бондарчук   \n",
      "104        8.251       Григорий Чухрай   \n",
      "107        8.356          Юрий Чулюкин   \n",
      "120        8.263           Элем Климов   \n",
      "171        8.240          Резо Чхеидзе   \n",
      "14         8.712         Леонид Гайдай   \n",
      "170        8.170     Андрей Тарковский   \n",
      "47         8.457         Леонид Гайдай   \n",
      "197        8.167        Эльдар Рязанов   \n",
      "153        8.192        Михаил Швейцер   \n",
      "23         8.516         Леонид Гайдай   \n",
      "76         8.452      Владимир Роговой   \n",
      "134        8.244         Леонид Гайдай   \n",
      "34         8.526       Александр Серый   \n",
      "48         8.505   Станислав Ростоцкий   \n",
      "9          8.782         Леонид Гайдай   \n",
      "28         8.709          Леонид Быков   \n",
      "99         8.378      Сергей Бондарчук   \n",
      "198        8.204        Эльдар Рязанов   \n",
      "230        8.174     Виталий Мельников   \n",
      "241        8.107          Леонид Быков   \n",
      "81         8.371   Станислав Ростоцкий   \n",
      "90         8.290        Эльдар Рязанов   \n",
      "66         8.374      Владимир Меньшов   \n",
      "168        8.276          Марк Захаров   \n",
      "109        8.413     Игорь Масленников   \n",
      "65         8.555     Игорь Масленников   \n",
      "162        8.189             Илья Фрэз   \n",
      "118        8.379     Игорь Масленников   \n",
      "128        8.355     Игорь Масленников   \n",
      "100        8.423     Игорь Масленников   \n",
      "240        8.088           Искра Бабич   \n",
      "52         8.599     Игорь Масленников   \n",
      "137        8.348     Игорь Масленников   \n",
      "125        8.263      Владимир Меньшов   \n",
      "202        8.082        Эльдар Рязанов   \n",
      "247        8.077           Элем Климов   \n",
      "226        8.034             Юрий Кара   \n",
      "249        8.050     Александр Прошкин   \n",
      "61         8.343       Владимир Бортко   \n",
      "103        8.230     Алексей Балабанов   \n",
      "199        8.096     Алексей Балабанов   \n",
      "196        7.967       Николай Лебедев   \n",
      "210        8.057            Юрий Быков   \n",
      "\n",
      "                                          screenwriter  \\\n",
      "73                                        Виктор Розов   \n",
      "82      Юрий Лукин;  Федор Шахмагонов;  Михаил Шолохов   \n",
      "104                    Григорий Чухрай;  Валентин Ежов   \n",
      "107                                       Борис Бедный   \n",
      "120                        Семен Лунгин;  Илья Нусинов   \n",
      "171                                      Сулико Жгенти   \n",
      "14    Леонид Гайдай;  Яков Костюковский;  Морис Сло...   \n",
      "170            Андрей Кончаловский;  Андрей Тарковский   \n",
      "47    Леонид Гайдай;  Яков Костюковский;  Морис Сло...   \n",
      "197                  Эмиль Брагинский;  Эльдар Рязанов   \n",
      "153        Михаил Швейцер;  Илья Ильф;  Евгений Петров   \n",
      "23    Леонид Гайдай;  Морис Слободской;  Яков Костю...   \n",
      "76                    Кирилл Рапопорт;  Борис Васильев   \n",
      "134    Владлен Бахнов;  Леонид Гайдай;  Илья Ильф; ...   \n",
      "34                 Георгий Данелия;  Виктория Токарева   \n",
      "48                Станислав Ростоцкий;  Борис Васильев   \n",
      "9     Владлен Бахнов;  Леонид Гайдай;  Михаил Булгаков   \n",
      "28    Леонид Быков;  Евгений Оноприенко;  Александр...   \n",
      "99                   Сергей Бондарчук;  Михаил Шолохов   \n",
      "198                  Эмиль Брагинский;  Эльдар Рязанов   \n",
      "230             Виталий Мельников;  Александр Вампилов   \n",
      "241                   Кирилл Рапопорт;  Борис Васильев   \n",
      "81          Станислав Ростоцкий;  Гавриил Троепольский   \n",
      "90                   Эмиль Брагинский;  Эльдар Рязанов   \n",
      "66                                     Валентин Черных   \n",
      "168                                     Григорий Горин   \n",
      "109     Юлий Дунский;  Валерий Фрид;  Артур Конан Дойл   \n",
      "65      Юлий Дунский;  Валерий Фрид;  Артур Конан Дойл   \n",
      "162                       Илья Фрэз;  Галина Щербакова   \n",
      "118               Владимир Валуцкий;  Артур Конан Дойл   \n",
      "128               Владимир Валуцкий;  Артур Конан Дойл   \n",
      "100               Владимир Валуцкий;  Артур Конан Дойл   \n",
      "240                    Искра Бабич;  Валентин Михайлов   \n",
      "52    Игорь Масленников;  Артур Конан Дойл;  Юрий В...   \n",
      "137               Игорь Масленников;  Артур Конан Дойл   \n",
      "125                                    Владимир Гуркин   \n",
      "202              Эльдар Рязанов;  Александр Островский   \n",
      "247                       Алесь Адамович;  Элем Климов   \n",
      "226                                     Борис Васильев   \n",
      "249                                   Эдгар Дубровский   \n",
      "61                    Наталия Бортко;  Михаил Булгаков   \n",
      "103                                  Алексей Балабанов   \n",
      "199                                  Алексей Балабанов   \n",
      "196   Михаил Местецкий;  Николай Куликов;  Николай ...   \n",
      "210                                         Юрий Быков   \n",
      "\n",
      "                                                actors  \n",
      "73   Татьяна Самойлова; Алексей Баталов; Василий Ме...  \n",
      "82   Сергей Бондарчук; Павел Полунин; Зинаида Кирие...  \n",
      "104  Владимир Ивашов; Жанна Прохоренко; Антонина Ма...  \n",
      "107  Надежда Румянцева; Николай Рыбников; Люсьена О...  \n",
      "120  Виктор Косых; Евгений Евстигнеев; Арина Алейни...  \n",
      "171  Серго Закариадзе; Владимир Привальцев; Алексан...  \n",
      "14   Александр Демьяненко; Наталья Селезнёва; Алекс...  \n",
      "170  Анатолий Солоницын; Иван Лапиков; Николай Грин...  \n",
      "47   Александр Демьяненко; Наталья Варлей; Юрий Ник...  \n",
      "197  Иннокентий Смоктуновский; Олег Ефремов; Любовь...  \n",
      "153  Сергей Юрский; Леонид Куравлёв; Зиновий Гердт;...  \n",
      "23   Юрий Никулин; Андрей Миронов; Анатолий Папанов...  \n",
      "76   Георгий Юматов; Василий Лановой; Алина Покровс...  \n",
      "134  Арчил Гомиашвили; Сергей Филиппов; Михаил Пуго...  \n",
      "34   Евгений Леонов; Георгий Вицин; Раднэр Муратов;...  \n",
      "48   Елена Драпеко; Екатерина Маркова; Ольга Остроу...  \n",
      "9    Александр Демьяненко; Юрий Яковлев; Леонид Кур...  \n",
      "28   Леонид Быков; Сергей Подгорный; Сергей Иванов;...  \n",
      "99   Василий Шукшин; Вячеслав Тихонов; Сергей Бонда...  \n",
      "198  Андрей Мягков; Барбара Брыльска; Юрий Яковлев;...  \n",
      "230  Евгений Леонов; Николай Караченцов; Наталья Ег...  \n",
      "241  Леонид Быков; Владимир Конкин; Елена Шанина; Л...  \n",
      "81   Вячеслав Тихонов; Никита Астахов; Валентина Вл...  \n",
      "90   Андрей Мягков; Алиса Фрейндлих; Светлана Немол...  \n",
      "66   Вера Алентова; Ирина Муравьёва; Алексей Батало...  \n",
      "168  Олег Янковский; Инна Чурикова; Елена Коренева;...  \n",
      "109  Василий Ливанов; Виталий Соломин; Рина Зеленая...  \n",
      "65   Василий Ливанов; Виталий Соломин; Рина Зеленая...  \n",
      "162  Татьяна Аксюта; Никита Михайловский; Елена Сол...  \n",
      "118  Василий Ливанов; Виталий Соломин; Рина Зеленая...  \n",
      "128  Василий Ливанов; Виталий Соломин; Рина Зеленая...  \n",
      "100  Василий Ливанов; Виталий Соломин; Рина Зеленая...  \n",
      "240  Александр Михайлов; Ирина Иванова; Петр Глебов...  \n",
      "52   Василий Ливанов; Виталий Соломин; Никита Михал...  \n",
      "137  Василий Ливанов; Виталий Соломин; Рина Зеленая...  \n",
      "125  Александр Михайлов; Нина Дорошина; Людмила Гур...  \n",
      "202  Лариса Гузеева; Андрей Мягков; Алиса Фрейндлих...  \n",
      "247  Алексей Кравченко; Ольга Миронова; Любомирас Л...  \n",
      "226  Сергей Никоненко; Нина Русланова; Вера Алентов...  \n",
      "249  Валерий Приёмыхов; Анатолий Папанов; Виктор Ст...  \n",
      "61   Владимир Толоконников; Евгений Евстигнеев; Бор...  \n",
      "103  Сергей Бодров мл.; Виктор Сухоруков; Светлана ...  \n",
      "199  Сергей Бодров мл.; Виктор Сухоруков; Сергей Ма...  \n",
      "196  Данила Козловский; Олег Меньшиков; Светлана Ив...  \n",
      "210  Артем Быстров; Наталья Суркова; Юрий Цурило; Б...  \n"
     ]
    }
   ],
   "source": [
    "nativefilms = data.loc[(data['country']=='Россия') | (data['country']=='СССР')]#фильмы из ссср или России\n",
    "nativefilms=nativefilms.sort_values(by=['year']) #сортируем по году\n",
    "print(nativefilms)#выводим отечественные фильмы"
   ]
  },
  {
   "cell_type": "markdown",
   "metadata": {},
   "source": [
    "Построим график: по оси абсцисс отложим год, по оси ординат - количество лучших фильмов из топа для этого года"
   ]
  },
  {
   "cell_type": "code",
   "execution_count": 50,
   "metadata": {},
   "outputs": [
    {
     "data": {
      "image/png": "[encoded data removed]",
      "text/plain": [
       "<Figure size 432x288 with 1 Axes>"
      ]
     },
     "metadata": {
      "needs_background": "light"
     },
     "output_type": "display_data"
    }
   ],
   "source": [
    "years = dict()#создаем словарь\n",
    "for i, row in data.iterrows():#обходим строки датафрейма\n",
    "    year = row['year']#получаем год\n",
    "    if year in years.keys():#если такой ключ в словаре уже есть\n",
    "        years[year] = years[year]+1#добавляем единицу\n",
    "    else:\n",
    "        years[year]=1#присваиваем единицу, если это первый фильм из этого года\n",
    "plt.bar(years.keys(),years.values())\n",
    "plt.ylabel('Количество фильмов')\n",
    "plt.xlabel('Год')\n",
    "plt.title('Количество фильмов из топа за каждый год')\n",
    "plt.show()"
   ]
  },
  {
   "cell_type": "markdown",
   "metadata": {},
   "source": [
    "Сделаем теперь круговую диаграмму для стран"
   ]
  },
  {
   "cell_type": "code",
   "execution_count": 64,
   "metadata": {},
   "outputs": [
    {
     "data": {
      "image/png": "[encoded data removed]",
      "text/plain": [
       "<Figure size 432x288 with 1 Axes>"
      ]
     },
     "metadata": {},
     "output_type": "display_data"
    }
   ],
   "source": [
    "patches, texts=plt.pie(countries.values())\n",
    "plt.title('Распределение лучших фильмов по странам')\n",
    "labels = ['{0} - {1}'.format(i,j) for i,j in zip(countries.keys(), countries.values())]\n",
    "plt.legend(patches, labels, bbox_to_anchor=(-0.1, 1.))\n",
    "plt.show()"
   ]
  }
 ],
 "metadata": {
  "kernelspec": {
   "display_name": "Python 3",
   "language": "python",
   "name": "python3"
  },
  "language_info": {
   "codemirror_mode": {
    "name": "ipython",
    "version": 3
   },
   "file_extension": ".py",
   "mimetype": "text/x-python",
   "name": "python",
   "nbconvert_exporter": "python",
   "pygments_lexer": "ipython3",
   "version": "3.7.6"
  }
 },
 "nbformat": 4,
 "nbformat_minor": 4
}
